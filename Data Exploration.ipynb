{
 "cells": [
  {
   "cell_type": "markdown",
   "metadata": {},
   "source": [
    "# Adam Kaba\n",
    "\n",
    "### Data Exploration\n",
    "\n",
    "In this notebook I'll be exploring  a dataset from the la times on la neighborhoods. I'll be playing around with various aspects of the data and just tryint to get a feel for it overall. I'll be using a few different functions and maybe making a couple graphs. This data is from http://boundaries.latimes.com/set/la-county-neighborhoods-current/."
   ]
  },
  {
   "cell_type": "markdown",
   "metadata": {},
   "source": [
    "First we need to import the geopandas library."
   ]
  },
  {
   "cell_type": "code",
   "execution_count": 1,
   "metadata": {},
   "outputs": [],
   "source": [
    "import geopandas as gpd"
   ]
  },
  {
   "cell_type": "markdown",
   "metadata": {},
   "source": [
    "Next we need to import the shapefile into python."
   ]
  },
  {
   "cell_type": "code",
   "execution_count": 5,
   "metadata": {},
   "outputs": [],
   "source": [
    "data = gpd.read_file('l.a. county neighborhood (current).shp')"
   ]
  },
  {
   "cell_type": "markdown",
   "metadata": {},
   "source": [
    "Now that our data has been read in, I want to get a feel for it"
   ]
  },
  {
   "cell_type": "code",
   "execution_count": 16,
   "metadata": {},
   "outputs": [
    {
     "data": {
      "text/plain": [
       "(272, 11)"
      ]
     },
     "execution_count": 16,
     "metadata": {},
     "output_type": "execute_result"
    }
   ],
   "source": [
    "data.shape"
   ]
  },
  {
   "cell_type": "markdown",
   "metadata": {},
   "source": [
    "The data appears to have 272 counties, with 11 variables on each county."
   ]
  },
  {
   "cell_type": "code",
   "execution_count": 12,
   "metadata": {},
   "outputs": [
    {
     "data": {
      "text/html": [
       "<div>\n",
       "<style scoped>\n",
       "    .dataframe tbody tr th:only-of-type {\n",
       "        vertical-align: middle;\n",
       "    }\n",
       "\n",
       "    .dataframe tbody tr th {\n",
       "        vertical-align: top;\n",
       "    }\n",
       "\n",
       "    .dataframe thead th {\n",
       "        text-align: right;\n",
       "    }\n",
       "</style>\n",
       "<table border=\"1\" class=\"dataframe\">\n",
       "  <thead>\n",
       "    <tr style=\"text-align: right;\">\n",
       "      <th></th>\n",
       "      <th>slug</th>\n",
       "      <th>set</th>\n",
       "      <th>kind</th>\n",
       "      <th>external_i</th>\n",
       "      <th>name</th>\n",
       "      <th>display_na</th>\n",
       "      <th>sqmi</th>\n",
       "      <th>type</th>\n",
       "      <th>name_1</th>\n",
       "      <th>slug_1</th>\n",
       "      <th>geometry</th>\n",
       "    </tr>\n",
       "  </thead>\n",
       "  <tbody>\n",
       "    <tr>\n",
       "      <th>0</th>\n",
       "      <td>acton</td>\n",
       "      <td>L.A. County Neighborhoods (Current)</td>\n",
       "      <td>L.A. County Neighborhood (Current)</td>\n",
       "      <td>acton</td>\n",
       "      <td>Acton</td>\n",
       "      <td>Acton L.A. County Neighborhood (Current)</td>\n",
       "      <td>39.3391089485</td>\n",
       "      <td>unincorporated-area</td>\n",
       "      <td>None</td>\n",
       "      <td>None</td>\n",
       "      <td>POLYGON ((-118.20262 34.53899, -118.18947 34.5...</td>\n",
       "    </tr>\n",
       "    <tr>\n",
       "      <th>1</th>\n",
       "      <td>adams-normandie</td>\n",
       "      <td>L.A. County Neighborhoods (Current)</td>\n",
       "      <td>L.A. County Neighborhood (Current)</td>\n",
       "      <td>adams-normandie</td>\n",
       "      <td>Adams-Normandie</td>\n",
       "      <td>Adams-Normandie L.A. County Neighborhood (Curr...</td>\n",
       "      <td>0.805350187789</td>\n",
       "      <td>segment-of-a-city</td>\n",
       "      <td>None</td>\n",
       "      <td>None</td>\n",
       "      <td>POLYGON ((-118.30901 34.03741, -118.30041 34.0...</td>\n",
       "    </tr>\n",
       "    <tr>\n",
       "      <th>2</th>\n",
       "      <td>agoura-hills</td>\n",
       "      <td>L.A. County Neighborhoods (Current)</td>\n",
       "      <td>L.A. County Neighborhood (Current)</td>\n",
       "      <td>agoura-hills</td>\n",
       "      <td>Agoura Hills</td>\n",
       "      <td>Agoura Hills L.A. County Neighborhood (Current)</td>\n",
       "      <td>8.14676029818</td>\n",
       "      <td>standalone-city</td>\n",
       "      <td>None</td>\n",
       "      <td>None</td>\n",
       "      <td>POLYGON ((-118.76193 34.16820, -118.72632 34.1...</td>\n",
       "    </tr>\n",
       "    <tr>\n",
       "      <th>3</th>\n",
       "      <td>agua-dulce</td>\n",
       "      <td>L.A. County Neighborhoods (Current)</td>\n",
       "      <td>L.A. County Neighborhood (Current)</td>\n",
       "      <td>agua-dulce</td>\n",
       "      <td>Agua Dulce</td>\n",
       "      <td>Agua Dulce L.A. County Neighborhood (Current)</td>\n",
       "      <td>31.4626319451</td>\n",
       "      <td>unincorporated-area</td>\n",
       "      <td>None</td>\n",
       "      <td>None</td>\n",
       "      <td>POLYGON ((-118.25468 34.55830, -118.25551 34.5...</td>\n",
       "    </tr>\n",
       "    <tr>\n",
       "      <th>4</th>\n",
       "      <td>alhambra</td>\n",
       "      <td>L.A. County Neighborhoods (Current)</td>\n",
       "      <td>L.A. County Neighborhood (Current)</td>\n",
       "      <td>alhambra</td>\n",
       "      <td>Alhambra</td>\n",
       "      <td>Alhambra L.A. County Neighborhood (Current)</td>\n",
       "      <td>7.62381430605</td>\n",
       "      <td>standalone-city</td>\n",
       "      <td>None</td>\n",
       "      <td>None</td>\n",
       "      <td>POLYGON ((-118.12175 34.10504, -118.11687 34.1...</td>\n",
       "    </tr>\n",
       "  </tbody>\n",
       "</table>\n",
       "</div>"
      ],
      "text/plain": [
       "              slug                                  set  \\\n",
       "0            acton  L.A. County Neighborhoods (Current)   \n",
       "1  adams-normandie  L.A. County Neighborhoods (Current)   \n",
       "2     agoura-hills  L.A. County Neighborhoods (Current)   \n",
       "3       agua-dulce  L.A. County Neighborhoods (Current)   \n",
       "4         alhambra  L.A. County Neighborhoods (Current)   \n",
       "\n",
       "                                 kind       external_i             name  \\\n",
       "0  L.A. County Neighborhood (Current)            acton            Acton   \n",
       "1  L.A. County Neighborhood (Current)  adams-normandie  Adams-Normandie   \n",
       "2  L.A. County Neighborhood (Current)     agoura-hills     Agoura Hills   \n",
       "3  L.A. County Neighborhood (Current)       agua-dulce       Agua Dulce   \n",
       "4  L.A. County Neighborhood (Current)         alhambra         Alhambra   \n",
       "\n",
       "                                          display_na            sqmi  \\\n",
       "0           Acton L.A. County Neighborhood (Current)   39.3391089485   \n",
       "1  Adams-Normandie L.A. County Neighborhood (Curr...  0.805350187789   \n",
       "2    Agoura Hills L.A. County Neighborhood (Current)   8.14676029818   \n",
       "3      Agua Dulce L.A. County Neighborhood (Current)   31.4626319451   \n",
       "4        Alhambra L.A. County Neighborhood (Current)   7.62381430605   \n",
       "\n",
       "                  type name_1 slug_1  \\\n",
       "0  unincorporated-area   None   None   \n",
       "1    segment-of-a-city   None   None   \n",
       "2      standalone-city   None   None   \n",
       "3  unincorporated-area   None   None   \n",
       "4      standalone-city   None   None   \n",
       "\n",
       "                                            geometry  \n",
       "0  POLYGON ((-118.20262 34.53899, -118.18947 34.5...  \n",
       "1  POLYGON ((-118.30901 34.03741, -118.30041 34.0...  \n",
       "2  POLYGON ((-118.76193 34.16820, -118.72632 34.1...  \n",
       "3  POLYGON ((-118.25468 34.55830, -118.25551 34.5...  \n",
       "4  POLYGON ((-118.12175 34.10504, -118.11687 34.1...  "
      ]
     },
     "execution_count": 12,
     "metadata": {},
     "output_type": "execute_result"
    }
   ],
   "source": [
    "data.head()"
   ]
  },
  {
   "cell_type": "markdown",
   "metadata": {},
   "source": [
    "This gives us a closer look at the datas variables, there are 3 different variables containing the cities name. 2 variables containing info on whether or not there was a change in it's belonging to La County. Also included is geometric data "
   ]
  },
  {
   "cell_type": "code",
   "execution_count": 21,
   "metadata": {},
   "outputs": [
    {
     "name": "stdout",
     "output_type": "stream",
     "text": [
      "<class 'geopandas.geodataframe.GeoDataFrame'>\n",
      "RangeIndex: 272 entries, 0 to 271\n",
      "Data columns (total 11 columns):\n",
      " #   Column      Non-Null Count  Dtype   \n",
      "---  ------      --------------  -----   \n",
      " 0   slug        272 non-null    object  \n",
      " 1   set         272 non-null    object  \n",
      " 2   kind        272 non-null    object  \n",
      " 3   external_i  272 non-null    object  \n",
      " 4   name        272 non-null    object  \n",
      " 5   display_na  272 non-null    object  \n",
      " 6   sqmi        272 non-null    object  \n",
      " 7   type        272 non-null    object  \n",
      " 8   name_1      0 non-null      object  \n",
      " 9   slug_1      0 non-null      object  \n",
      " 10  geometry    272 non-null    geometry\n",
      "dtypes: geometry(1), object(10)\n",
      "memory usage: 23.5+ KB\n"
     ]
    }
   ],
   "source": [
    "data.info()"
   ]
  },
  {
   "cell_type": "markdown",
   "metadata": {},
   "source": [
    "this tells us that name_1 and slug_1 are missing all their observations, while the rest of the variables have no missing values. On top of this every variable has the object data type, while geometry has the \"geometry\" data type"
   ]
  },
  {
   "cell_type": "code",
   "execution_count": 30,
   "metadata": {},
   "outputs": [
    {
     "data": {
      "text/plain": [
       "San Gabriel                 1\n",
       "Tujunga                     1\n",
       "Mission Hills               1\n",
       "West Whittier-Los Nietos    1\n",
       "Cudahy                      1\n",
       "                           ..\n",
       "West Covina                 1\n",
       "Northridge                  1\n",
       "Elizabeth Lake              1\n",
       "Athens                      1\n",
       "Manhattan Beach             1\n",
       "Name: name, Length: 272, dtype: int64"
      ]
     },
     "execution_count": 30,
     "metadata": {},
     "output_type": "execute_result"
    }
   ],
   "source": [
    "data['name'].value_counts()"
   ]
  },
  {
   "cell_type": "markdown",
   "metadata": {},
   "source": [
    "Every city/ county is present only once within the dataset, which makes sense given the context of the data."
   ]
  },
  {
   "cell_type": "markdown",
   "metadata": {},
   "source": [
    "Since the data includes geometry information we can plot it."
   ]
  },
  {
   "cell_type": "code",
   "execution_count": 43,
   "metadata": {},
   "outputs": [
    {
     "data": {
      "text/plain": [
       "<matplotlib.axes._subplots.AxesSubplot at 0x7f6e0d142970>"
      ]
     },
     "execution_count": 43,
     "metadata": {},
     "output_type": "execute_result"
    },
    {
     "data": {
      "image/png": "[encoded data removed]",
      "text/plain": [
       "<Figure size 432x288 with 1 Axes>"
      ]
     },
     "metadata": {
      "needs_background": "light"
     },
     "output_type": "display_data"
    }
   ],
   "source": [
    "newdata.plot()"
   ]
  },
  {
   "cell_type": "markdown",
   "metadata": {},
   "source": [
    "This is a map/plot of the geographic reigon given by the data"
   ]
  },
  {
   "cell_type": "markdown",
   "metadata": {},
   "source": [
    "Since there a lot of data we might not care about lets trim it."
   ]
  },
  {
   "cell_type": "code",
   "execution_count": 88,
   "metadata": {},
   "outputs": [
    {
     "data": {
      "text/html": [
       "<div>\n",
       "<style scoped>\n",
       "    .dataframe tbody tr th:only-of-type {\n",
       "        vertical-align: middle;\n",
       "    }\n",
       "\n",
       "    .dataframe tbody tr th {\n",
       "        vertical-align: top;\n",
       "    }\n",
       "\n",
       "    .dataframe thead th {\n",
       "        text-align: right;\n",
       "    }\n",
       "</style>\n",
       "<table border=\"1\" class=\"dataframe\">\n",
       "  <thead>\n",
       "    <tr style=\"text-align: right;\">\n",
       "      <th></th>\n",
       "      <th>name</th>\n",
       "      <th>sqmi</th>\n",
       "      <th>geometry</th>\n",
       "    </tr>\n",
       "  </thead>\n",
       "  <tbody>\n",
       "    <tr>\n",
       "      <th>0</th>\n",
       "      <td>Acton</td>\n",
       "      <td>39.3391089485</td>\n",
       "      <td>POLYGON ((-118.20262 34.53899, -118.18947 34.5...</td>\n",
       "    </tr>\n",
       "    <tr>\n",
       "      <th>1</th>\n",
       "      <td>Adams-Normandie</td>\n",
       "      <td>0.805350187789</td>\n",
       "      <td>POLYGON ((-118.30901 34.03741, -118.30041 34.0...</td>\n",
       "    </tr>\n",
       "    <tr>\n",
       "      <th>2</th>\n",
       "      <td>Agoura Hills</td>\n",
       "      <td>8.14676029818</td>\n",
       "      <td>POLYGON ((-118.76193 34.16820, -118.72632 34.1...</td>\n",
       "    </tr>\n",
       "    <tr>\n",
       "      <th>3</th>\n",
       "      <td>Agua Dulce</td>\n",
       "      <td>31.4626319451</td>\n",
       "      <td>POLYGON ((-118.25468 34.55830, -118.25551 34.5...</td>\n",
       "    </tr>\n",
       "    <tr>\n",
       "      <th>4</th>\n",
       "      <td>Alhambra</td>\n",
       "      <td>7.62381430605</td>\n",
       "      <td>POLYGON ((-118.12175 34.10504, -118.11687 34.1...</td>\n",
       "    </tr>\n",
       "    <tr>\n",
       "      <th>...</th>\n",
       "      <td>...</td>\n",
       "      <td>...</td>\n",
       "      <td>...</td>\n",
       "    </tr>\n",
       "    <tr>\n",
       "      <th>267</th>\n",
       "      <td>Willowbrook</td>\n",
       "      <td>3.76636072646</td>\n",
       "      <td>POLYGON ((-118.23005 33.92809, -118.22803 33.9...</td>\n",
       "    </tr>\n",
       "    <tr>\n",
       "      <th>268</th>\n",
       "      <td>Wilmington</td>\n",
       "      <td>9.1412927044</td>\n",
       "      <td>POLYGON ((-118.22476 33.82461, -118.22458 33.8...</td>\n",
       "    </tr>\n",
       "    <tr>\n",
       "      <th>269</th>\n",
       "      <td>Windsor Square</td>\n",
       "      <td>0.683463802484</td>\n",
       "      <td>POLYGON ((-118.31371 34.07631, -118.31381 34.0...</td>\n",
       "    </tr>\n",
       "    <tr>\n",
       "      <th>270</th>\n",
       "      <td>Winnetka</td>\n",
       "      <td>4.77724070209</td>\n",
       "      <td>POLYGON ((-118.56221 34.23150, -118.56212 34.2...</td>\n",
       "    </tr>\n",
       "    <tr>\n",
       "      <th>271</th>\n",
       "      <td>Woodland Hills</td>\n",
       "      <td>14.768309648</td>\n",
       "      <td>POLYGON ((-118.57569 34.18822, -118.57362 34.1...</td>\n",
       "    </tr>\n",
       "  </tbody>\n",
       "</table>\n",
       "<p>272 rows × 3 columns</p>\n",
       "</div>"
      ],
      "text/plain": [
       "                name            sqmi  \\\n",
       "0              Acton   39.3391089485   \n",
       "1    Adams-Normandie  0.805350187789   \n",
       "2       Agoura Hills   8.14676029818   \n",
       "3         Agua Dulce   31.4626319451   \n",
       "4           Alhambra   7.62381430605   \n",
       "..               ...             ...   \n",
       "267      Willowbrook   3.76636072646   \n",
       "268       Wilmington    9.1412927044   \n",
       "269   Windsor Square  0.683463802484   \n",
       "270         Winnetka   4.77724070209   \n",
       "271   Woodland Hills    14.768309648   \n",
       "\n",
       "                                              geometry  \n",
       "0    POLYGON ((-118.20262 34.53899, -118.18947 34.5...  \n",
       "1    POLYGON ((-118.30901 34.03741, -118.30041 34.0...  \n",
       "2    POLYGON ((-118.76193 34.16820, -118.72632 34.1...  \n",
       "3    POLYGON ((-118.25468 34.55830, -118.25551 34.5...  \n",
       "4    POLYGON ((-118.12175 34.10504, -118.11687 34.1...  \n",
       "..                                                 ...  \n",
       "267  POLYGON ((-118.23005 33.92809, -118.22803 33.9...  \n",
       "268  POLYGON ((-118.22476 33.82461, -118.22458 33.8...  \n",
       "269  POLYGON ((-118.31371 34.07631, -118.31381 34.0...  \n",
       "270  POLYGON ((-118.56221 34.23150, -118.56212 34.2...  \n",
       "271  POLYGON ((-118.57569 34.18822, -118.57362 34.1...  \n",
       "\n",
       "[272 rows x 3 columns]"
      ]
     },
     "execution_count": 88,
     "metadata": {},
     "output_type": "execute_result"
    }
   ],
   "source": [
    "newdata = data[['name','sqmi','geometry']]\n",
    "newdata"
   ]
  },
  {
   "cell_type": "code",
   "execution_count": 89,
   "metadata": {},
   "outputs": [
    {
     "data": {
      "text/html": [
       "<div>\n",
       "<style scoped>\n",
       "    .dataframe tbody tr th:only-of-type {\n",
       "        vertical-align: middle;\n",
       "    }\n",
       "\n",
       "    .dataframe tbody tr th {\n",
       "        vertical-align: top;\n",
       "    }\n",
       "\n",
       "    .dataframe thead th {\n",
       "        text-align: right;\n",
       "    }\n",
       "</style>\n",
       "<table border=\"1\" class=\"dataframe\">\n",
       "  <thead>\n",
       "    <tr style=\"text-align: right;\">\n",
       "      <th></th>\n",
       "      <th>name</th>\n",
       "      <th>sqmi</th>\n",
       "      <th>geometry</th>\n",
       "    </tr>\n",
       "  </thead>\n",
       "  <tbody>\n",
       "    <tr>\n",
       "      <th>1</th>\n",
       "      <td>Adams-Normandie</td>\n",
       "      <td>0.805350187789</td>\n",
       "      <td>POLYGON ((-118.30901 34.03741, -118.30041 34.0...</td>\n",
       "    </tr>\n",
       "    <tr>\n",
       "      <th>5</th>\n",
       "      <td>Alondra Park</td>\n",
       "      <td>1.13989423058</td>\n",
       "      <td>POLYGON ((-118.32651 33.89757, -118.32649 33.8...</td>\n",
       "    </tr>\n",
       "    <tr>\n",
       "      <th>10</th>\n",
       "      <td>Arlington Heights</td>\n",
       "      <td>1.03141523527</td>\n",
       "      <td>POLYGON ((-118.31591 34.05261, -118.31341 34.0...</td>\n",
       "    </tr>\n",
       "    <tr>\n",
       "      <th>11</th>\n",
       "      <td>Artesia</td>\n",
       "      <td>1.63220417689</td>\n",
       "      <td>POLYGON ((-118.07490 33.88038, -118.07502 33.8...</td>\n",
       "    </tr>\n",
       "    <tr>\n",
       "      <th>12</th>\n",
       "      <td>Athens</td>\n",
       "      <td>1.33275332251</td>\n",
       "      <td>POLYGON ((-118.29166 33.93096, -118.29152 33.9...</td>\n",
       "    </tr>\n",
       "    <tr>\n",
       "      <th>...</th>\n",
       "      <td>...</td>\n",
       "      <td>...</td>\n",
       "      <td>...</td>\n",
       "    </tr>\n",
       "    <tr>\n",
       "      <th>259</th>\n",
       "      <td>West Los Angeles</td>\n",
       "      <td>1.04957313159</td>\n",
       "      <td>POLYGON ((-118.43421 34.03731, -118.43504 34.0...</td>\n",
       "    </tr>\n",
       "    <tr>\n",
       "      <th>260</th>\n",
       "      <td>Westmont</td>\n",
       "      <td>1.84381583493</td>\n",
       "      <td>POLYGON ((-118.29247 33.95951, -118.29160 33.9...</td>\n",
       "    </tr>\n",
       "    <tr>\n",
       "      <th>261</th>\n",
       "      <td>West Puente Valley</td>\n",
       "      <td>1.85662447271</td>\n",
       "      <td>POLYGON ((-117.96997 34.06552, -117.97011 34.0...</td>\n",
       "    </tr>\n",
       "    <tr>\n",
       "      <th>262</th>\n",
       "      <td>West San Dimas</td>\n",
       "      <td>0.32978537849</td>\n",
       "      <td>POLYGON ((-117.82518 34.09130, -117.82420 34.0...</td>\n",
       "    </tr>\n",
       "    <tr>\n",
       "      <th>269</th>\n",
       "      <td>Windsor Square</td>\n",
       "      <td>0.683463802484</td>\n",
       "      <td>POLYGON ((-118.31371 34.07631, -118.31381 34.0...</td>\n",
       "    </tr>\n",
       "  </tbody>\n",
       "</table>\n",
       "<p>78 rows × 3 columns</p>\n",
       "</div>"
      ],
      "text/plain": [
       "                   name            sqmi  \\\n",
       "1       Adams-Normandie  0.805350187789   \n",
       "5          Alondra Park   1.13989423058   \n",
       "10    Arlington Heights   1.03141523527   \n",
       "11              Artesia   1.63220417689   \n",
       "12               Athens   1.33275332251   \n",
       "..                  ...             ...   \n",
       "259    West Los Angeles   1.04957313159   \n",
       "260            Westmont   1.84381583493   \n",
       "261  West Puente Valley   1.85662447271   \n",
       "262      West San Dimas   0.32978537849   \n",
       "269      Windsor Square  0.683463802484   \n",
       "\n",
       "                                              geometry  \n",
       "1    POLYGON ((-118.30901 34.03741, -118.30041 34.0...  \n",
       "5    POLYGON ((-118.32651 33.89757, -118.32649 33.8...  \n",
       "10   POLYGON ((-118.31591 34.05261, -118.31341 34.0...  \n",
       "11   POLYGON ((-118.07490 33.88038, -118.07502 33.8...  \n",
       "12   POLYGON ((-118.29166 33.93096, -118.29152 33.9...  \n",
       "..                                                 ...  \n",
       "259  POLYGON ((-118.43421 34.03731, -118.43504 34.0...  \n",
       "260  POLYGON ((-118.29247 33.95951, -118.29160 33.9...  \n",
       "261  POLYGON ((-117.96997 34.06552, -117.97011 34.0...  \n",
       "262  POLYGON ((-117.82518 34.09130, -117.82420 34.0...  \n",
       "269  POLYGON ((-118.31371 34.07631, -118.31381 34.0...  \n",
       "\n",
       "[78 rows x 3 columns]"
      ]
     },
     "execution_count": 89,
     "metadata": {},
     "output_type": "execute_result"
    }
   ],
   "source": [
    "newdata = newdata.query(\"sqmi < '10'\")\n",
    "newdata"
   ]
  },
  {
   "cell_type": "markdown",
   "metadata": {},
   "source": [
    "Now we have a much cleaner data set containing only counties with a square mileage of less than 10. Information given is the counties' name, square mileage and geometry data"
   ]
  },
  {
   "cell_type": "code",
   "execution_count": 90,
   "metadata": {},
   "outputs": [
    {
     "data": {
      "text/plain": [
       "<matplotlib.axes._subplots.AxesSubplot at 0x7f6e0af55f10>"
      ]
     },
     "execution_count": 90,
     "metadata": {},
     "output_type": "execute_result"
    },
    {
     "data": {
      "image/png": "[encoded data removed]",
      "text/plain": [
       "<Figure size 432x288 with 1 Axes>"
      ]
     },
     "metadata": {
      "needs_background": "light"
     },
     "output_type": "display_data"
    }
   ],
   "source": [
    "newdata.plot()"
   ]
  },
  {
   "cell_type": "markdown",
   "metadata": {},
   "source": [
    "This shows where the smaller counties are in relation to the previous plot."
   ]
  }
 ],
 "metadata": {
  "kernelspec": {
   "display_name": "Python 3",
   "language": "python",
   "name": "python3"
  },
  "language_info": {
   "codemirror_mode": {
    "name": "ipython",
    "version": 3
   },
   "file_extension": ".py",
   "mimetype": "text/x-python",
   "name": "python",
   "nbconvert_exporter": "python",
   "pygments_lexer": "ipython3",
   "version": "3.8.5"
  },
  "toc": {
   "base_numbering": 1,
   "nav_menu": {},
   "number_sections": true,
   "sideBar": true,
   "skip_h1_title": false,
   "title_cell": "Table of Contents",
   "title_sidebar": "Contents",
   "toc_cell": false,
   "toc_position": {},
   "toc_section_display": true,
   "toc_window_display": false
  }
 },
 "nbformat": 4,
 "nbformat_minor": 4
}
